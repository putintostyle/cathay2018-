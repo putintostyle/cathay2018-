{
 "cells": [
  {
   "cell_type": "code",
   "execution_count": 44,
   "metadata": {},
   "outputs": [],
   "source": [
    "import pandas as pd\n",
    "import numpy as np\n",
    "from sklearn.model_selection import train_test_split\n",
    "from sklearn.utils import shuffle"
   ]
  },
  {
   "cell_type": "code",
   "execution_count": 45,
   "metadata": {},
   "outputs": [],
   "source": [
    "path = \"/home/math/putintostyle/cathay2018/cathay2018/process_data/split_data/\""
   ]
  },
  {
   "cell_type": "code",
   "execution_count": 46,
   "metadata": {},
   "outputs": [],
   "source": [
    "data = [\"a\",\"b\",\"c\",\"d\",\"e\",\"f\",\"g\"]"
   ]
  },
  {
   "cell_type": "code",
   "execution_count": 47,
   "metadata": {},
   "outputs": [],
   "source": [
    "Train_df = pd.DataFrame()\n",
    "Test_df = pd.DataFrame()"
   ]
  },
  {
   "cell_type": "code",
   "execution_count": 48,
   "metadata": {},
   "outputs": [],
   "source": [
    "for i in data:\n",
    "    df = pd.read_csv(path+\"train_data_buy_type_\"+i+\".csv\")\n",
    "    df = df.drop(['OCCUPATION'],axis = 1)\n",
    "    df.MINOR_CAT = df.MINOR_CAT.astype(str)\n",
    "    X_train, X_test = train_test_split(df, test_size=0.05)\n",
    "    Train_df = pd.concat([Train_df, X_train])\n",
    "    Test_df = pd.concat([Test_df, X_test])"
   ]
  },
  {
   "cell_type": "code",
   "execution_count": 49,
   "metadata": {},
   "outputs": [
    {
     "data": {
      "text/plain": [
       "(11479, 48)"
      ]
     },
     "execution_count": 49,
     "metadata": {},
     "output_type": "execute_result"
    }
   ],
   "source": [
    "Train_df.shape\n",
    "Test_df.shape"
   ]
  },
  {
   "cell_type": "code",
   "execution_count": 50,
   "metadata": {},
   "outputs": [
    {
     "data": {
      "text/html": [
       "<div>\n",
       "<style scoped>\n",
       "    .dataframe tbody tr th:only-of-type {\n",
       "        vertical-align: middle;\n",
       "    }\n",
       "\n",
       "    .dataframe tbody tr th {\n",
       "        vertical-align: top;\n",
       "    }\n",
       "\n",
       "    .dataframe thead th {\n",
       "        text-align: right;\n",
       "    }\n",
       "</style>\n",
       "<table border=\"1\" class=\"dataframe\">\n",
       "  <thead>\n",
       "    <tr style=\"text-align: right;\">\n",
       "      <th></th>\n",
       "      <th>CUST_ID</th>\n",
       "      <th>BUY_TYPE</th>\n",
       "      <th>AGE</th>\n",
       "      <th>SEX</th>\n",
       "      <th>HEIGHT</th>\n",
       "      <th>WEIGHT</th>\n",
       "      <th>CHILD_NUM</th>\n",
       "      <th>BUY_MONTH</th>\n",
       "      <th>BUY_YEAR</th>\n",
       "      <th>CITY_CODE</th>\n",
       "      <th>...</th>\n",
       "      <th>INTEREST8</th>\n",
       "      <th>INTEREST9</th>\n",
       "      <th>INTEREST10</th>\n",
       "      <th>IS_APP</th>\n",
       "      <th>IS_SPECIALMEMBER</th>\n",
       "      <th>PARENTS_DEAD</th>\n",
       "      <th>REAL_ESTATE_HAVE</th>\n",
       "      <th>IS_MAJOR_INCOME</th>\n",
       "      <th>MAJOR_CAT</th>\n",
       "      <th>MINOR_CAT</th>\n",
       "    </tr>\n",
       "  </thead>\n",
       "  <tbody>\n",
       "    <tr>\n",
       "      <th>18381</th>\n",
       "      <td>880170</td>\n",
       "      <td>a</td>\n",
       "      <td>f</td>\n",
       "      <td>a</td>\n",
       "      <td>0.615321</td>\n",
       "      <td>0.537263</td>\n",
       "      <td>0</td>\n",
       "      <td>10</td>\n",
       "      <td>T</td>\n",
       "      <td>a</td>\n",
       "      <td>...</td>\n",
       "      <td>NaN</td>\n",
       "      <td>NaN</td>\n",
       "      <td>NaN</td>\n",
       "      <td>a</td>\n",
       "      <td>b</td>\n",
       "      <td>B</td>\n",
       "      <td>B</td>\n",
       "      <td>A</td>\n",
       "      <td>t</td>\n",
       "      <td>28.0</td>\n",
       "    </tr>\n",
       "    <tr>\n",
       "      <th>3454</th>\n",
       "      <td>161124</td>\n",
       "      <td>d</td>\n",
       "      <td>e</td>\n",
       "      <td>b</td>\n",
       "      <td>0.703924</td>\n",
       "      <td>0.210564</td>\n",
       "      <td>0</td>\n",
       "      <td>7</td>\n",
       "      <td>T</td>\n",
       "      <td>n</td>\n",
       "      <td>...</td>\n",
       "      <td>NaN</td>\n",
       "      <td>NaN</td>\n",
       "      <td>NaN</td>\n",
       "      <td>a</td>\n",
       "      <td>b</td>\n",
       "      <td>B</td>\n",
       "      <td>B</td>\n",
       "      <td>A</td>\n",
       "      <td>q</td>\n",
       "      <td>37.0</td>\n",
       "    </tr>\n",
       "    <tr>\n",
       "      <th>16941</th>\n",
       "      <td>2008409</td>\n",
       "      <td>c</td>\n",
       "      <td>a</td>\n",
       "      <td>a</td>\n",
       "      <td>-2.131369</td>\n",
       "      <td>-1.936318</td>\n",
       "      <td>0</td>\n",
       "      <td>4</td>\n",
       "      <td>T</td>\n",
       "      <td>a</td>\n",
       "      <td>...</td>\n",
       "      <td>NaN</td>\n",
       "      <td>NaN</td>\n",
       "      <td>NaN</td>\n",
       "      <td>a</td>\n",
       "      <td>a</td>\n",
       "      <td>B</td>\n",
       "      <td>B</td>\n",
       "      <td>A</td>\n",
       "      <td>a</td>\n",
       "      <td>37.0</td>\n",
       "    </tr>\n",
       "    <tr>\n",
       "      <th>17469</th>\n",
       "      <td>825007</td>\n",
       "      <td>d</td>\n",
       "      <td>h</td>\n",
       "      <td>b</td>\n",
       "      <td>0.438115</td>\n",
       "      <td>0.443920</td>\n",
       "      <td>0</td>\n",
       "      <td>2</td>\n",
       "      <td>T</td>\n",
       "      <td>b</td>\n",
       "      <td>...</td>\n",
       "      <td>NaN</td>\n",
       "      <td>NaN</td>\n",
       "      <td>NaN</td>\n",
       "      <td>a</td>\n",
       "      <td>b</td>\n",
       "      <td>B</td>\n",
       "      <td>B</td>\n",
       "      <td>B</td>\n",
       "      <td>i</td>\n",
       "      <td>37.0</td>\n",
       "    </tr>\n",
       "    <tr>\n",
       "      <th>48276</th>\n",
       "      <td>2271718</td>\n",
       "      <td>e</td>\n",
       "      <td>a</td>\n",
       "      <td>a</td>\n",
       "      <td>-2.190438</td>\n",
       "      <td>-2.029661</td>\n",
       "      <td>0</td>\n",
       "      <td>10</td>\n",
       "      <td>T</td>\n",
       "      <td>m</td>\n",
       "      <td>...</td>\n",
       "      <td>NaN</td>\n",
       "      <td>NaN</td>\n",
       "      <td>NaN</td>\n",
       "      <td>a</td>\n",
       "      <td>a</td>\n",
       "      <td>A</td>\n",
       "      <td>B</td>\n",
       "      <td>A</td>\n",
       "      <td>i</td>\n",
       "      <td>37.0</td>\n",
       "    </tr>\n",
       "  </tbody>\n",
       "</table>\n",
       "<p>5 rows × 48 columns</p>\n",
       "</div>"
      ],
      "text/plain": [
       "       CUST_ID BUY_TYPE AGE SEX    HEIGHT    WEIGHT  CHILD_NUM  BUY_MONTH  \\\n",
       "18381   880170        a   f   a  0.615321  0.537263          0         10   \n",
       "3454    161124        d   e   b  0.703924  0.210564          0          7   \n",
       "16941  2008409        c   a   a -2.131369 -1.936318          0          4   \n",
       "17469   825007        d   h   b  0.438115  0.443920          0          2   \n",
       "48276  2271718        e   a   a -2.190438 -2.029661          0         10   \n",
       "\n",
       "      BUY_YEAR CITY_CODE    ...     INTEREST8 INTEREST9 INTEREST10 IS_APP  \\\n",
       "18381        T         a    ...           NaN       NaN        NaN      a   \n",
       "3454         T         n    ...           NaN       NaN        NaN      a   \n",
       "16941        T         a    ...           NaN       NaN        NaN      a   \n",
       "17469        T         b    ...           NaN       NaN        NaN      a   \n",
       "48276        T         m    ...           NaN       NaN        NaN      a   \n",
       "\n",
       "      IS_SPECIALMEMBER PARENTS_DEAD REAL_ESTATE_HAVE IS_MAJOR_INCOME  \\\n",
       "18381                b            B                B               A   \n",
       "3454                 b            B                B               A   \n",
       "16941                a            B                B               A   \n",
       "17469                b            B                B               B   \n",
       "48276                a            A                B               A   \n",
       "\n",
       "      MAJOR_CAT MINOR_CAT  \n",
       "18381         t      28.0  \n",
       "3454          q      37.0  \n",
       "16941         a      37.0  \n",
       "17469         i      37.0  \n",
       "48276         i      37.0  \n",
       "\n",
       "[5 rows x 48 columns]"
      ]
     },
     "execution_count": 50,
     "metadata": {},
     "output_type": "execute_result"
    }
   ],
   "source": [
    "Test_df = shuffle(Test_df)\n",
    "Test_df.head()"
   ]
  },
  {
   "cell_type": "code",
   "execution_count": 51,
   "metadata": {},
   "outputs": [],
   "source": [
    "y_Train = Train_df[['CUST_ID','BUY_TYPE']]\n",
    "y_Test = Test_df[['CUST_ID','BUY_TYPE']]"
   ]
  },
  {
   "cell_type": "code",
   "execution_count": 52,
   "metadata": {},
   "outputs": [],
   "source": [
    "Train_df = Train_df.drop(['BUY_TYPE'],axis = 1)\n",
    "Test_df = Test_df.drop(['BUY_TYPE'],axis = 1)\n",
    "\n",
    "Train_df.to_csv(\"/home/math/putintostyle/cathay2018/cathay2018/Splitting_data/X_train.csv\",index=False)\n",
    "Test_df.to_csv(\"/home/math/putintostyle/cathay2018/cathay2018/Splitting_data/X_test.csv\",index=False)\n",
    "\n",
    "y_Train.to_csv(\"/home/math/putintostyle/cathay2018/cathay2018/Splitting_data/y_train.csv\",index=False)\n",
    "y_Test.to_csv(\"/home/math/putintostyle/cathay2018/cathay2018/Splitting_data/y_test.csv\",index=False)"
   ]
  },
  {
   "cell_type": "code",
   "execution_count": 53,
   "metadata": {},
   "outputs": [],
   "source": [
    "for i in Train_df.MINOR_CAT.values:\n",
    "    if type(i) != str :\n",
    "        print(i)"
   ]
  }
 ],
 "metadata": {
  "kernelspec": {
   "display_name": "Python [default]",
   "language": "python",
   "name": "python3"
  },
  "language_info": {
   "codemirror_mode": {
    "name": "ipython",
    "version": 3
   },
   "file_extension": ".py",
   "mimetype": "text/x-python",
   "name": "python",
   "nbconvert_exporter": "python",
   "pygments_lexer": "ipython3",
   "version": "3.6.5"
  }
 },
 "nbformat": 4,
 "nbformat_minor": 2
}
