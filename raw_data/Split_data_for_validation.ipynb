{
 "cells": [
  {
   "cell_type": "code",
   "execution_count": 143,
   "metadata": {},
   "outputs": [],
   "source": [
    "import pandas as pd\n",
    "import numpy as np\n",
    "from sklearn.model_selection import train_test_split\n",
    "from sklearn.utils import shuffle"
   ]
  },
  {
   "cell_type": "code",
   "execution_count": 144,
   "metadata": {},
   "outputs": [],
   "source": [
    "path = \"/home/math/putintostyle/cathay2018/process_data/split_data/\""
   ]
  },
  {
   "cell_type": "code",
   "execution_count": 145,
   "metadata": {},
   "outputs": [],
   "source": [
    "data = [\"a\",\"b\",\"c\",\"d\",\"e\",\"f\",\"g\"]"
   ]
  },
  {
   "cell_type": "code",
   "execution_count": 146,
   "metadata": {},
   "outputs": [],
   "source": [
    "Train_df = pd.DataFrame()\n",
    "Test_df = pd.DataFrame()"
   ]
  },
  {
   "cell_type": "code",
   "execution_count": 147,
   "metadata": {},
   "outputs": [
    {
     "name": "stderr",
     "output_type": "stream",
     "text": [
      "/home/math/anaconda3/lib/python3.6/site-packages/IPython/core/interactiveshell.py:2785: DtypeWarning: Columns (48) have mixed types. Specify dtype option on import or set low_memory=False.\n",
      "  interactivity=interactivity, compiler=compiler, result=result)\n"
     ]
    }
   ],
   "source": [
    "for i in data:\n",
    "    df = pd.read_csv(path+\"train_data_buy_type_\"+i+\".csv\")\n",
    "    df = df.drop(['OCCUPATION'],axis = 1)\n",
    "    X_train, X_test = train_test_split(df, test_size=0.05)\n",
    "    Train_df = pd.concat([Train_df, X_train])\n",
    "    Test_df = pd.concat([Test_df, X_test])"
   ]
  },
  {
   "cell_type": "code",
   "execution_count": 148,
   "metadata": {},
   "outputs": [
    {
     "data": {
      "text/plain": [
       "(11479, 48)"
      ]
     },
     "execution_count": 148,
     "metadata": {},
     "output_type": "execute_result"
    }
   ],
   "source": [
    "Train_df.shape\n",
    "Test_df.shape"
   ]
  },
  {
   "cell_type": "code",
   "execution_count": 149,
   "metadata": {},
   "outputs": [
    {
     "data": {
      "text/html": [
       "<div>\n",
       "<style scoped>\n",
       "    .dataframe tbody tr th:only-of-type {\n",
       "        vertical-align: middle;\n",
       "    }\n",
       "\n",
       "    .dataframe tbody tr th {\n",
       "        vertical-align: top;\n",
       "    }\n",
       "\n",
       "    .dataframe thead th {\n",
       "        text-align: right;\n",
       "    }\n",
       "</style>\n",
       "<table border=\"1\" class=\"dataframe\">\n",
       "  <thead>\n",
       "    <tr style=\"text-align: right;\">\n",
       "      <th></th>\n",
       "      <th>CUST_ID</th>\n",
       "      <th>BUY_TYPE</th>\n",
       "      <th>AGE</th>\n",
       "      <th>SEX</th>\n",
       "      <th>HEIGHT</th>\n",
       "      <th>WEIGHT</th>\n",
       "      <th>CHILD_NUM</th>\n",
       "      <th>BUY_MONTH</th>\n",
       "      <th>BUY_YEAR</th>\n",
       "      <th>CITY_CODE</th>\n",
       "      <th>...</th>\n",
       "      <th>INTEREST8</th>\n",
       "      <th>INTEREST9</th>\n",
       "      <th>INTEREST10</th>\n",
       "      <th>IS_APP</th>\n",
       "      <th>IS_SPECIALMEMBER</th>\n",
       "      <th>PARENTS_DEAD</th>\n",
       "      <th>REAL_ESTATE_HAVE</th>\n",
       "      <th>IS_MAJOR_INCOME</th>\n",
       "      <th>MAJOR_CAT</th>\n",
       "      <th>MINOR_CAT</th>\n",
       "    </tr>\n",
       "  </thead>\n",
       "  <tbody>\n",
       "    <tr>\n",
       "      <th>28403</th>\n",
       "      <td>1341902.0</td>\n",
       "      <td>d</td>\n",
       "      <td>f</td>\n",
       "      <td>a</td>\n",
       "      <td>0.349512</td>\n",
       "      <td>1.003976</td>\n",
       "      <td>0.0</td>\n",
       "      <td>2.0</td>\n",
       "      <td>T</td>\n",
       "      <td>l</td>\n",
       "      <td>...</td>\n",
       "      <td>NaN</td>\n",
       "      <td>NaN</td>\n",
       "      <td>NaN</td>\n",
       "      <td>b</td>\n",
       "      <td>b</td>\n",
       "      <td>B</td>\n",
       "      <td>B</td>\n",
       "      <td>A</td>\n",
       "      <td>q</td>\n",
       "      <td>37</td>\n",
       "    </tr>\n",
       "    <tr>\n",
       "      <th>41961</th>\n",
       "      <td>1968631.0</td>\n",
       "      <td>e</td>\n",
       "      <td>d</td>\n",
       "      <td>a</td>\n",
       "      <td>0.260909</td>\n",
       "      <td>-0.209478</td>\n",
       "      <td>0.0</td>\n",
       "      <td>7.0</td>\n",
       "      <td>T</td>\n",
       "      <td>t</td>\n",
       "      <td>...</td>\n",
       "      <td>NaN</td>\n",
       "      <td>NaN</td>\n",
       "      <td>NaN</td>\n",
       "      <td>a</td>\n",
       "      <td>a</td>\n",
       "      <td>B</td>\n",
       "      <td>B</td>\n",
       "      <td>A</td>\n",
       "      <td>e</td>\n",
       "      <td>37</td>\n",
       "    </tr>\n",
       "    <tr>\n",
       "      <th>61554</th>\n",
       "      <td>2919683.0</td>\n",
       "      <td>a</td>\n",
       "      <td>i</td>\n",
       "      <td>a</td>\n",
       "      <td>NaN</td>\n",
       "      <td>NaN</td>\n",
       "      <td>0.0</td>\n",
       "      <td>5.0</td>\n",
       "      <td>T</td>\n",
       "      <td>t</td>\n",
       "      <td>...</td>\n",
       "      <td>NaN</td>\n",
       "      <td>NaN</td>\n",
       "      <td>NaN</td>\n",
       "      <td>a</td>\n",
       "      <td>b</td>\n",
       "      <td>A</td>\n",
       "      <td>A</td>\n",
       "      <td>B</td>\n",
       "      <td>m</td>\n",
       "      <td>37</td>\n",
       "    </tr>\n",
       "    <tr>\n",
       "      <th>52689</th>\n",
       "      <td>2500838.0</td>\n",
       "      <td>a</td>\n",
       "      <td>j</td>\n",
       "      <td>b</td>\n",
       "      <td>0.703924</td>\n",
       "      <td>1.143990</td>\n",
       "      <td>0.0</td>\n",
       "      <td>2.0</td>\n",
       "      <td>T</td>\n",
       "      <td>r</td>\n",
       "      <td>...</td>\n",
       "      <td>NaN</td>\n",
       "      <td>NaN</td>\n",
       "      <td>NaN</td>\n",
       "      <td>a</td>\n",
       "      <td>a</td>\n",
       "      <td>B</td>\n",
       "      <td>A</td>\n",
       "      <td>A</td>\n",
       "      <td>e</td>\n",
       "      <td>37</td>\n",
       "    </tr>\n",
       "    <tr>\n",
       "      <th>49766</th>\n",
       "      <td>2362877.0</td>\n",
       "      <td>a</td>\n",
       "      <td>d</td>\n",
       "      <td>b</td>\n",
       "      <td>NaN</td>\n",
       "      <td>NaN</td>\n",
       "      <td>0.0</td>\n",
       "      <td>2.0</td>\n",
       "      <td>T</td>\n",
       "      <td>i</td>\n",
       "      <td>...</td>\n",
       "      <td>NaN</td>\n",
       "      <td>NaN</td>\n",
       "      <td>NaN</td>\n",
       "      <td>a</td>\n",
       "      <td>a</td>\n",
       "      <td>B</td>\n",
       "      <td>B</td>\n",
       "      <td>B</td>\n",
       "      <td>r</td>\n",
       "      <td>37</td>\n",
       "    </tr>\n",
       "  </tbody>\n",
       "</table>\n",
       "<p>5 rows × 48 columns</p>\n",
       "</div>"
      ],
      "text/plain": [
       "         CUST_ID BUY_TYPE AGE SEX    HEIGHT    WEIGHT  CHILD_NUM  BUY_MONTH  \\\n",
       "28403  1341902.0        d   f   a  0.349512  1.003976        0.0        2.0   \n",
       "41961  1968631.0        e   d   a  0.260909 -0.209478        0.0        7.0   \n",
       "61554  2919683.0        a   i   a       NaN       NaN        0.0        5.0   \n",
       "52689  2500838.0        a   j   b  0.703924  1.143990        0.0        2.0   \n",
       "49766  2362877.0        a   d   b       NaN       NaN        0.0        2.0   \n",
       "\n",
       "      BUY_YEAR CITY_CODE    ...     INTEREST8 INTEREST9 INTEREST10 IS_APP  \\\n",
       "28403        T         l    ...           NaN       NaN        NaN      b   \n",
       "41961        T         t    ...           NaN       NaN        NaN      a   \n",
       "61554        T         t    ...           NaN       NaN        NaN      a   \n",
       "52689        T         r    ...           NaN       NaN        NaN      a   \n",
       "49766        T         i    ...           NaN       NaN        NaN      a   \n",
       "\n",
       "      IS_SPECIALMEMBER PARENTS_DEAD REAL_ESTATE_HAVE IS_MAJOR_INCOME  \\\n",
       "28403                b            B                B               A   \n",
       "41961                a            B                B               A   \n",
       "61554                b            A                A               B   \n",
       "52689                a            B                A               A   \n",
       "49766                a            B                B               B   \n",
       "\n",
       "      MAJOR_CAT MINOR_CAT  \n",
       "28403         q        37  \n",
       "41961         e        37  \n",
       "61554         m        37  \n",
       "52689         e        37  \n",
       "49766         r        37  \n",
       "\n",
       "[5 rows x 48 columns]"
      ]
     },
     "execution_count": 149,
     "metadata": {},
     "output_type": "execute_result"
    }
   ],
   "source": [
    "Test_df = shuffle(Test_df)\n",
    "Test_df.head()"
   ]
  },
  {
   "cell_type": "code",
   "execution_count": 150,
   "metadata": {},
   "outputs": [],
   "source": [
    "y_Train = Train_df[['CUST_ID','BUY_TYPE']]\n",
    "y_Test = Test_df[['CUST_ID','BUY_TYPE']]"
   ]
  },
  {
   "cell_type": "code",
   "execution_count": 151,
   "metadata": {},
   "outputs": [],
   "source": [
    "Train_df = Train_df.drop(['BUY_TYPE'],axis = 1)\n",
    "Test_df = Test_df.drop(['BUY_TYPE'],axis = 1)\n",
    "\n",
    "Train_df.to_csv(\"/home/math/putintostyle/cathay2018/Splitting_data/X_train.csv\",na_rep = \"NA\")\n",
    "Test_df.to_csv(\"/home/math/putintostyle/cathay2018/Splitting_data/X_test.csv\",na_rep = \"NA\")\n",
    "\n",
    "y_Train.to_csv(\"/home/math/putintostyle/cathay2018/Splitting_data/y_train.csv\",na_rep = \"NA\")\n",
    "y_Test.to_csv(\"/home/math/putintostyle/cathay2018/Splitting_data/y_test.csv\",na_rep = \"NA\")"
   ]
  }
 ],
 "metadata": {
  "kernelspec": {
   "display_name": "Python [default]",
   "language": "python",
   "name": "python3"
  },
  "language_info": {
   "codemirror_mode": {
    "name": "ipython",
    "version": 3
   },
   "file_extension": ".py",
   "mimetype": "text/x-python",
   "name": "python",
   "nbconvert_exporter": "python",
   "pygments_lexer": "ipython3",
   "version": "3.6.5"
  }
 },
 "nbformat": 4,
 "nbformat_minor": 2
}
