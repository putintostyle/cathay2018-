{
 "cells": [
  {
   "cell_type": "code",
   "execution_count": 34,
   "metadata": {},
   "outputs": [],
   "source": [
    "import pandas as pd\n",
    "import numpy as np\n",
    "from sklearn.model_selection import train_test_split\n",
    "from sklearn.utils import shuffle"
   ]
  },
  {
   "cell_type": "code",
   "execution_count": 35,
   "metadata": {},
   "outputs": [],
   "source": [
    "path = \"/home/math/putintostyle/cathay2018/cathay2018/process_data/split_data/\""
   ]
  },
  {
   "cell_type": "code",
   "execution_count": 36,
   "metadata": {},
   "outputs": [],
   "source": [
    "data = [\"a\",\"b\",\"c\",\"d\",\"e\",\"f\",\"g\"]"
   ]
  },
  {
   "cell_type": "code",
   "execution_count": 37,
   "metadata": {},
   "outputs": [],
   "source": [
    "Train_df = pd.DataFrame()\n",
    "Test_df = pd.DataFrame()"
   ]
  },
  {
   "cell_type": "code",
   "execution_count": 38,
   "metadata": {},
   "outputs": [],
   "source": [
    "for i in data:\n",
    "    df = pd.read_csv(path+\"train_data_buy_type_\"+i+\".csv\")\n",
    "    df = df.drop(['OCCUPATION'],axis = 1)\n",
    "    X_train, X_test = train_test_split(df, test_size=0.05)\n",
    "    Train_df = pd.concat([Train_df, X_train])\n",
    "    Test_df = pd.concat([Test_df, X_test])"
   ]
  },
  {
   "cell_type": "code",
   "execution_count": 39,
   "metadata": {},
   "outputs": [
    {
     "data": {
      "text/plain": [
       "(11479, 48)"
      ]
     },
     "execution_count": 39,
     "metadata": {},
     "output_type": "execute_result"
    }
   ],
   "source": [
    "Train_df.shape\n",
    "Test_df.shape"
   ]
  },
  {
   "cell_type": "code",
   "execution_count": 40,
   "metadata": {},
   "outputs": [
    {
     "data": {
      "text/html": [
       "<div>\n",
       "<style scoped>\n",
       "    .dataframe tbody tr th:only-of-type {\n",
       "        vertical-align: middle;\n",
       "    }\n",
       "\n",
       "    .dataframe tbody tr th {\n",
       "        vertical-align: top;\n",
       "    }\n",
       "\n",
       "    .dataframe thead th {\n",
       "        text-align: right;\n",
       "    }\n",
       "</style>\n",
       "<table border=\"1\" class=\"dataframe\">\n",
       "  <thead>\n",
       "    <tr style=\"text-align: right;\">\n",
       "      <th></th>\n",
       "      <th>CUST_ID</th>\n",
       "      <th>BUY_TYPE</th>\n",
       "      <th>AGE</th>\n",
       "      <th>SEX</th>\n",
       "      <th>HEIGHT</th>\n",
       "      <th>WEIGHT</th>\n",
       "      <th>CHILD_NUM</th>\n",
       "      <th>BUY_MONTH</th>\n",
       "      <th>BUY_YEAR</th>\n",
       "      <th>CITY_CODE</th>\n",
       "      <th>...</th>\n",
       "      <th>INTEREST8</th>\n",
       "      <th>INTEREST9</th>\n",
       "      <th>INTEREST10</th>\n",
       "      <th>IS_APP</th>\n",
       "      <th>IS_SPECIALMEMBER</th>\n",
       "      <th>PARENTS_DEAD</th>\n",
       "      <th>REAL_ESTATE_HAVE</th>\n",
       "      <th>IS_MAJOR_INCOME</th>\n",
       "      <th>MAJOR_CAT</th>\n",
       "      <th>MINOR_CAT</th>\n",
       "    </tr>\n",
       "  </thead>\n",
       "  <tbody>\n",
       "    <tr>\n",
       "      <th>44563</th>\n",
       "      <td>2110872</td>\n",
       "      <td>d</td>\n",
       "      <td>n</td>\n",
       "      <td>b</td>\n",
       "      <td>0.556252</td>\n",
       "      <td>1.237333</td>\n",
       "      <td>0</td>\n",
       "      <td>8</td>\n",
       "      <td>T</td>\n",
       "      <td>e</td>\n",
       "      <td>...</td>\n",
       "      <td>NaN</td>\n",
       "      <td>NaN</td>\n",
       "      <td>NaN</td>\n",
       "      <td>a</td>\n",
       "      <td>a</td>\n",
       "      <td>B</td>\n",
       "      <td>B</td>\n",
       "      <td>A</td>\n",
       "      <td>l</td>\n",
       "      <td>37.0</td>\n",
       "    </tr>\n",
       "    <tr>\n",
       "      <th>17690</th>\n",
       "      <td>2099785</td>\n",
       "      <td>c</td>\n",
       "      <td>j</td>\n",
       "      <td>a</td>\n",
       "      <td>0.349512</td>\n",
       "      <td>-0.069464</td>\n",
       "      <td>1</td>\n",
       "      <td>12</td>\n",
       "      <td>T</td>\n",
       "      <td>b</td>\n",
       "      <td>...</td>\n",
       "      <td>NaN</td>\n",
       "      <td>NaN</td>\n",
       "      <td>NaN</td>\n",
       "      <td>a</td>\n",
       "      <td>a</td>\n",
       "      <td>B</td>\n",
       "      <td>A</td>\n",
       "      <td>A</td>\n",
       "      <td>i</td>\n",
       "      <td>37.0</td>\n",
       "    </tr>\n",
       "    <tr>\n",
       "      <th>34963</th>\n",
       "      <td>1639551</td>\n",
       "      <td>e</td>\n",
       "      <td>l</td>\n",
       "      <td>a</td>\n",
       "      <td>-0.004899</td>\n",
       "      <td>-0.536178</td>\n",
       "      <td>1</td>\n",
       "      <td>5</td>\n",
       "      <td>T</td>\n",
       "      <td>g</td>\n",
       "      <td>...</td>\n",
       "      <td>NaN</td>\n",
       "      <td>NaN</td>\n",
       "      <td>NaN</td>\n",
       "      <td>a</td>\n",
       "      <td>a</td>\n",
       "      <td>B</td>\n",
       "      <td>B</td>\n",
       "      <td>B</td>\n",
       "      <td>n</td>\n",
       "      <td>37.0</td>\n",
       "    </tr>\n",
       "    <tr>\n",
       "      <th>899</th>\n",
       "      <td>390479</td>\n",
       "      <td>b</td>\n",
       "      <td>h</td>\n",
       "      <td>b</td>\n",
       "      <td>0.733458</td>\n",
       "      <td>1.050648</td>\n",
       "      <td>0</td>\n",
       "      <td>9</td>\n",
       "      <td>T</td>\n",
       "      <td>r</td>\n",
       "      <td>...</td>\n",
       "      <td>NaN</td>\n",
       "      <td>NaN</td>\n",
       "      <td>NaN</td>\n",
       "      <td>a</td>\n",
       "      <td>a</td>\n",
       "      <td>A</td>\n",
       "      <td>A</td>\n",
       "      <td>A</td>\n",
       "      <td>m</td>\n",
       "      <td>28.0</td>\n",
       "    </tr>\n",
       "    <tr>\n",
       "      <th>30872</th>\n",
       "      <td>1445040</td>\n",
       "      <td>e</td>\n",
       "      <td>i</td>\n",
       "      <td>b</td>\n",
       "      <td>0.556252</td>\n",
       "      <td>0.863962</td>\n",
       "      <td>0</td>\n",
       "      <td>9</td>\n",
       "      <td>T</td>\n",
       "      <td>g</td>\n",
       "      <td>...</td>\n",
       "      <td>NaN</td>\n",
       "      <td>NaN</td>\n",
       "      <td>NaN</td>\n",
       "      <td>a</td>\n",
       "      <td>a</td>\n",
       "      <td>A</td>\n",
       "      <td>B</td>\n",
       "      <td>B</td>\n",
       "      <td>n</td>\n",
       "      <td>37.0</td>\n",
       "    </tr>\n",
       "  </tbody>\n",
       "</table>\n",
       "<p>5 rows × 48 columns</p>\n",
       "</div>"
      ],
      "text/plain": [
       "       CUST_ID BUY_TYPE AGE SEX    HEIGHT    WEIGHT  CHILD_NUM  BUY_MONTH  \\\n",
       "44563  2110872        d   n   b  0.556252  1.237333          0          8   \n",
       "17690  2099785        c   j   a  0.349512 -0.069464          1         12   \n",
       "34963  1639551        e   l   a -0.004899 -0.536178          1          5   \n",
       "899     390479        b   h   b  0.733458  1.050648          0          9   \n",
       "30872  1445040        e   i   b  0.556252  0.863962          0          9   \n",
       "\n",
       "      BUY_YEAR CITY_CODE    ...     INTEREST8 INTEREST9 INTEREST10 IS_APP  \\\n",
       "44563        T         e    ...           NaN       NaN        NaN      a   \n",
       "17690        T         b    ...           NaN       NaN        NaN      a   \n",
       "34963        T         g    ...           NaN       NaN        NaN      a   \n",
       "899          T         r    ...           NaN       NaN        NaN      a   \n",
       "30872        T         g    ...           NaN       NaN        NaN      a   \n",
       "\n",
       "      IS_SPECIALMEMBER PARENTS_DEAD REAL_ESTATE_HAVE IS_MAJOR_INCOME  \\\n",
       "44563                a            B                B               A   \n",
       "17690                a            B                A               A   \n",
       "34963                a            B                B               B   \n",
       "899                  a            A                A               A   \n",
       "30872                a            A                B               B   \n",
       "\n",
       "      MAJOR_CAT MINOR_CAT  \n",
       "44563         l      37.0  \n",
       "17690         i      37.0  \n",
       "34963         n      37.0  \n",
       "899           m      28.0  \n",
       "30872         n      37.0  \n",
       "\n",
       "[5 rows x 48 columns]"
      ]
     },
     "execution_count": 40,
     "metadata": {},
     "output_type": "execute_result"
    }
   ],
   "source": [
    "Test_df = shuffle(Test_df)\n",
    "Test_df.head()"
   ]
  },
  {
   "cell_type": "code",
   "execution_count": 41,
   "metadata": {},
   "outputs": [],
   "source": [
    "y_Train = Train_df[['CUST_ID','BUY_TYPE']]\n",
    "y_Test = Test_df[['CUST_ID','BUY_TYPE']]"
   ]
  },
  {
   "cell_type": "code",
   "execution_count": 42,
   "metadata": {},
   "outputs": [],
   "source": [
    "Train_df = Train_df.drop(['BUY_TYPE'],axis = 1)\n",
    "Test_df = Test_df.drop(['BUY_TYPE'],axis = 1)\n",
    "\n",
    "Train_df.to_csv(\"/home/math/putintostyle/cathay2018/cathay2018/Splitting_data/X_train.csv\",index=False)\n",
    "Test_df.to_csv(\"/home/math/putintostyle/cathay2018/cathay2018/Splitting_data/X_test.csv\",index=False)\n",
    "\n",
    "y_Train.to_csv(\"/home/math/putintostyle/cathay2018/cathay2018/Splitting_data/y_train.csv\",index=False)\n",
    "y_Test.to_csv(\"/home/math/putintostyle/cathay2018/cathay2018/Splitting_data/y_test.csv\",index=False)"
   ]
  },
  {
   "cell_type": "code",
   "execution_count": 43,
   "metadata": {},
   "outputs": [],
   "source": [
    "for i in Train_df.MINOR_CAT.values:\n",
    "    if type(i) != np.double :\n",
    "        print(i)"
   ]
  }
 ],
 "metadata": {
  "kernelspec": {
   "display_name": "Python [default]",
   "language": "python",
   "name": "python3"
  },
  "language_info": {
   "codemirror_mode": {
    "name": "ipython",
    "version": 3
   },
   "file_extension": ".py",
   "mimetype": "text/x-python",
   "name": "python",
   "nbconvert_exporter": "python",
   "pygments_lexer": "ipython3",
   "version": "3.6.5"
  }
 },
 "nbformat": 4,
 "nbformat_minor": 2
}
